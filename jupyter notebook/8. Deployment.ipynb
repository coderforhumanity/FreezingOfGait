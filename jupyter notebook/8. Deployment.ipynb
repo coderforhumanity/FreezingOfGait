{
 "cells": [
  {
   "cell_type": "markdown",
   "id": "3290f18b-f515-4545-884a-8f5b690c6225",
   "metadata": {},
   "source": [
    "## Basic Deployment Demostration\n",
    "\n",
    "Here we are going to provide a basic deployment demonstration showing the probability of freeze at every time interval"
   ]
  },
  {
   "cell_type": "code",
   "execution_count": 32,
   "id": "a7781058-7300-4820-ab5b-77aa5d310da5",
   "metadata": {},
   "outputs": [],
   "source": [
    "import joblib"
   ]
  },
  {
   "cell_type": "code",
   "execution_count": 14,
   "id": "3ec30c92-f97d-4d75-b5b1-82768bc23af2",
   "metadata": {},
   "outputs": [],
   "source": [
    "model = joblib.load(\"../model/model_rf.joblib\")"
   ]
  },
  {
   "cell_type": "code",
   "execution_count": 31,
   "id": "be84351d-72e1-446a-9109-1dcda6202cfa",
   "metadata": {},
   "outputs": [
    {
     "name": "stdout",
     "output_type": "stream",
     "text": [
      "Time unit :  1    Freeze probability :  0.085\n",
      "Time unit :  2    Freeze probability :  0.005\n",
      "Time unit :  3    Freeze probability :  0.0\n",
      "Time unit :  4    Freeze probability :  0.0\n",
      "Time unit :  5    Freeze probability :  0.01\n",
      "Time unit :  6    Freeze probability :  0.005\n"
     ]
    },
    {
     "name": "stderr",
     "output_type": "stream",
     "text": [
      "C:\\Users\\Dev\\anaconda3\\lib\\site-packages\\sklearn\\base.py:439: UserWarning: X does not have valid feature names, but RandomForestClassifier was fitted with feature names\n",
      "  warnings.warn(\n",
      "C:\\Users\\Dev\\anaconda3\\lib\\site-packages\\sklearn\\base.py:439: UserWarning: X does not have valid feature names, but RandomForestClassifier was fitted with feature names\n",
      "  warnings.warn(\n",
      "C:\\Users\\Dev\\anaconda3\\lib\\site-packages\\sklearn\\base.py:439: UserWarning: X does not have valid feature names, but RandomForestClassifier was fitted with feature names\n",
      "  warnings.warn(\n",
      "C:\\Users\\Dev\\anaconda3\\lib\\site-packages\\sklearn\\base.py:439: UserWarning: X does not have valid feature names, but RandomForestClassifier was fitted with feature names\n",
      "  warnings.warn(\n",
      "C:\\Users\\Dev\\anaconda3\\lib\\site-packages\\sklearn\\base.py:439: UserWarning: X does not have valid feature names, but RandomForestClassifier was fitted with feature names\n",
      "  warnings.warn(\n",
      "C:\\Users\\Dev\\anaconda3\\lib\\site-packages\\sklearn\\base.py:439: UserWarning: X does not have valid feature names, but RandomForestClassifier was fitted with feature names\n",
      "  warnings.warn(\n"
     ]
    }
   ],
   "source": [
    "input_list = [\n",
    "    [-40,970,326,-36,962,242,320,657,349],\n",
    "    [-60,990,316,54,953,262,77,914,446],\n",
    "    [-111,980,346,-27,953,262,-48,857,446],\n",
    "    [-212,1000,376,690,-166,282,77,942,349],\n",
    "    [-60,1009,346,18,972,242,77,866,436],\n",
    "    [-232,862,366,390,111,-191,87,952,368],\n",
    "]\n",
    "\n",
    "for i in range(len(input_list)):\n",
    "    print(\"Time unit : \", i+1 , \"  \" , \"Freeze probability : \", model.predict_proba([input_list[i]])[0][2])"
   ]
  },
  {
   "cell_type": "markdown",
   "id": "88cfb3dc-9aa7-47dc-8c46-9a74308791cd",
   "metadata": {},
   "source": [
    "As we can see from the above demonstration that the system is able to provide the freezing probability at every time interval"
   ]
  },
  {
   "cell_type": "code",
   "execution_count": null,
   "id": "a78c4eae-e1c9-4b59-9683-62d11abd5faa",
   "metadata": {},
   "outputs": [],
   "source": []
  }
 ],
 "metadata": {
  "kernelspec": {
   "display_name": "Python 3",
   "language": "python",
   "name": "python3"
  },
  "language_info": {
   "codemirror_mode": {
    "name": "ipython",
    "version": 3
   },
   "file_extension": ".py",
   "mimetype": "text/x-python",
   "name": "python",
   "nbconvert_exporter": "python",
   "pygments_lexer": "ipython3",
   "version": "3.8.8"
  }
 },
 "nbformat": 4,
 "nbformat_minor": 5
}
