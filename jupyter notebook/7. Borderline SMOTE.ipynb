{
 "cells": [
  {
   "cell_type": "markdown",
   "id": "2fec0a73-f17e-4078-a077-8e7980cb30ff",
   "metadata": {},
   "source": [
    "## Borderline SMOTE\n",
    "\n",
    "Here we will use Borderline SMOTE which is an extension of SMOTE to balance the classes and then will move forward with the modeling section."
   ]
  },
  {
   "cell_type": "code",
   "execution_count": 33,
   "id": "5b482b1f-8223-4670-8a0f-314f52e80c95",
   "metadata": {},
   "outputs": [],
   "source": [
    "from imblearn.over_sampling import BorderlineSMOTE\n",
    "from sklearn.ensemble import RandomForestClassifier\n",
    "from sklearn.tree import DecisionTreeClassifier\n",
    "from xgboost import XGBClassifier\n",
    "from sklearn.model_selection import train_test_split\n",
    "import pandas as pd\n",
    "from sklearn.metrics import confusion_matrix, classification_report\n",
    "import numpy as np\n",
    "import matplotlib.pyplot as plt\n",
    "import seaborn as sns\n",
    "import joblib"
   ]
  },
  {
   "cell_type": "code",
   "execution_count": 8,
   "id": "51ff822b-6737-42b5-a7cc-55a3d63df287",
   "metadata": {},
   "outputs": [
    {
     "data": {
      "text/html": [
       "<div>\n",
       "<style scoped>\n",
       "    .dataframe tbody tr th:only-of-type {\n",
       "        vertical-align: middle;\n",
       "    }\n",
       "\n",
       "    .dataframe tbody tr th {\n",
       "        vertical-align: top;\n",
       "    }\n",
       "\n",
       "    .dataframe thead th {\n",
       "        text-align: right;\n",
       "    }\n",
       "</style>\n",
       "<table border=\"1\" class=\"dataframe\">\n",
       "  <thead>\n",
       "    <tr style=\"text-align: right;\">\n",
       "      <th></th>\n",
       "      <th>ankle_acc_hor_forward</th>\n",
       "      <th>ankle_acc_ver</th>\n",
       "      <th>ankle_acc_hor_lateral</th>\n",
       "      <th>upper_leg_acc_hor_forward</th>\n",
       "      <th>upper_leg_acc_ver</th>\n",
       "      <th>upper_leg_acc_hor_lateral</th>\n",
       "      <th>trunk_acc_hor_forward</th>\n",
       "      <th>trunk_acc_ver</th>\n",
       "      <th>trunk_acc_hor_lateral</th>\n",
       "      <th>annotation</th>\n",
       "    </tr>\n",
       "  </thead>\n",
       "  <tbody>\n",
       "    <tr>\n",
       "      <th>0</th>\n",
       "      <td>-40</td>\n",
       "      <td>970</td>\n",
       "      <td>326</td>\n",
       "      <td>-36</td>\n",
       "      <td>962</td>\n",
       "      <td>242</td>\n",
       "      <td>320</td>\n",
       "      <td>657</td>\n",
       "      <td>349</td>\n",
       "      <td>0</td>\n",
       "    </tr>\n",
       "    <tr>\n",
       "      <th>1</th>\n",
       "      <td>-60</td>\n",
       "      <td>990</td>\n",
       "      <td>316</td>\n",
       "      <td>54</td>\n",
       "      <td>953</td>\n",
       "      <td>262</td>\n",
       "      <td>77</td>\n",
       "      <td>914</td>\n",
       "      <td>446</td>\n",
       "      <td>0</td>\n",
       "    </tr>\n",
       "    <tr>\n",
       "      <th>2</th>\n",
       "      <td>-111</td>\n",
       "      <td>980</td>\n",
       "      <td>346</td>\n",
       "      <td>-27</td>\n",
       "      <td>953</td>\n",
       "      <td>262</td>\n",
       "      <td>-48</td>\n",
       "      <td>857</td>\n",
       "      <td>446</td>\n",
       "      <td>0</td>\n",
       "    </tr>\n",
       "    <tr>\n",
       "      <th>3</th>\n",
       "      <td>-111</td>\n",
       "      <td>980</td>\n",
       "      <td>346</td>\n",
       "      <td>36</td>\n",
       "      <td>981</td>\n",
       "      <td>232</td>\n",
       "      <td>-38</td>\n",
       "      <td>800</td>\n",
       "      <td>446</td>\n",
       "      <td>0</td>\n",
       "    </tr>\n",
       "    <tr>\n",
       "      <th>4</th>\n",
       "      <td>-60</td>\n",
       "      <td>1009</td>\n",
       "      <td>346</td>\n",
       "      <td>18</td>\n",
       "      <td>972</td>\n",
       "      <td>242</td>\n",
       "      <td>77</td>\n",
       "      <td>866</td>\n",
       "      <td>436</td>\n",
       "      <td>0</td>\n",
       "    </tr>\n",
       "    <tr>\n",
       "      <th>...</th>\n",
       "      <td>...</td>\n",
       "      <td>...</td>\n",
       "      <td>...</td>\n",
       "      <td>...</td>\n",
       "      <td>...</td>\n",
       "      <td>...</td>\n",
       "      <td>...</td>\n",
       "      <td>...</td>\n",
       "      <td>...</td>\n",
       "      <td>...</td>\n",
       "    </tr>\n",
       "    <tr>\n",
       "      <th>1021876</th>\n",
       "      <td>-212</td>\n",
       "      <td>1000</td>\n",
       "      <td>376</td>\n",
       "      <td>690</td>\n",
       "      <td>-166</td>\n",
       "      <td>282</td>\n",
       "      <td>77</td>\n",
       "      <td>942</td>\n",
       "      <td>349</td>\n",
       "      <td>1</td>\n",
       "    </tr>\n",
       "    <tr>\n",
       "      <th>1021877</th>\n",
       "      <td>-232</td>\n",
       "      <td>970</td>\n",
       "      <td>356</td>\n",
       "      <td>572</td>\n",
       "      <td>-55</td>\n",
       "      <td>10</td>\n",
       "      <td>67</td>\n",
       "      <td>961</td>\n",
       "      <td>339</td>\n",
       "      <td>1</td>\n",
       "    </tr>\n",
       "    <tr>\n",
       "      <th>1021878</th>\n",
       "      <td>-232</td>\n",
       "      <td>970</td>\n",
       "      <td>356</td>\n",
       "      <td>272</td>\n",
       "      <td>92</td>\n",
       "      <td>-70</td>\n",
       "      <td>97</td>\n",
       "      <td>961</td>\n",
       "      <td>359</td>\n",
       "      <td>1</td>\n",
       "    </tr>\n",
       "    <tr>\n",
       "      <th>1021879</th>\n",
       "      <td>-252</td>\n",
       "      <td>921</td>\n",
       "      <td>346</td>\n",
       "      <td>354</td>\n",
       "      <td>18</td>\n",
       "      <td>-171</td>\n",
       "      <td>87</td>\n",
       "      <td>952</td>\n",
       "      <td>359</td>\n",
       "      <td>1</td>\n",
       "    </tr>\n",
       "    <tr>\n",
       "      <th>1021880</th>\n",
       "      <td>-232</td>\n",
       "      <td>862</td>\n",
       "      <td>366</td>\n",
       "      <td>390</td>\n",
       "      <td>111</td>\n",
       "      <td>-191</td>\n",
       "      <td>87</td>\n",
       "      <td>952</td>\n",
       "      <td>368</td>\n",
       "      <td>1</td>\n",
       "    </tr>\n",
       "  </tbody>\n",
       "</table>\n",
       "<p>1021881 rows × 10 columns</p>\n",
       "</div>"
      ],
      "text/plain": [
       "         ankle_acc_hor_forward  ankle_acc_ver  ankle_acc_hor_lateral  \\\n",
       "0                          -40            970                    326   \n",
       "1                          -60            990                    316   \n",
       "2                         -111            980                    346   \n",
       "3                         -111            980                    346   \n",
       "4                          -60           1009                    346   \n",
       "...                        ...            ...                    ...   \n",
       "1021876                   -212           1000                    376   \n",
       "1021877                   -232            970                    356   \n",
       "1021878                   -232            970                    356   \n",
       "1021879                   -252            921                    346   \n",
       "1021880                   -232            862                    366   \n",
       "\n",
       "         upper_leg_acc_hor_forward  upper_leg_acc_ver  \\\n",
       "0                              -36                962   \n",
       "1                               54                953   \n",
       "2                              -27                953   \n",
       "3                               36                981   \n",
       "4                               18                972   \n",
       "...                            ...                ...   \n",
       "1021876                        690               -166   \n",
       "1021877                        572                -55   \n",
       "1021878                        272                 92   \n",
       "1021879                        354                 18   \n",
       "1021880                        390                111   \n",
       "\n",
       "         upper_leg_acc_hor_lateral  trunk_acc_hor_forward  trunk_acc_ver  \\\n",
       "0                              242                    320            657   \n",
       "1                              262                     77            914   \n",
       "2                              262                    -48            857   \n",
       "3                              232                    -38            800   \n",
       "4                              242                     77            866   \n",
       "...                            ...                    ...            ...   \n",
       "1021876                        282                     77            942   \n",
       "1021877                         10                     67            961   \n",
       "1021878                        -70                     97            961   \n",
       "1021879                       -171                     87            952   \n",
       "1021880                       -191                     87            952   \n",
       "\n",
       "         trunk_acc_hor_lateral  annotation  \n",
       "0                          349           0  \n",
       "1                          446           0  \n",
       "2                          446           0  \n",
       "3                          446           0  \n",
       "4                          436           0  \n",
       "...                        ...         ...  \n",
       "1021876                    349           1  \n",
       "1021877                    339           1  \n",
       "1021878                    359           1  \n",
       "1021879                    359           1  \n",
       "1021880                    368           1  \n",
       "\n",
       "[1021881 rows x 10 columns]"
      ]
     },
     "execution_count": 8,
     "metadata": {},
     "output_type": "execute_result"
    }
   ],
   "source": [
    "df = pd.read_csv(\"../dataset/merged.csv\")\n",
    "df.drop(columns=[\"Time(ms)\"], inplace=True)\n",
    "df"
   ]
  },
  {
   "cell_type": "code",
   "execution_count": 9,
   "id": "93028336-bc8e-450d-9c6d-fc807d58983e",
   "metadata": {},
   "outputs": [
    {
     "data": {
      "text/plain": [
       "<AxesSubplot:xlabel='annotation', ylabel='count'>"
      ]
     },
     "execution_count": 9,
     "metadata": {},
     "output_type": "execute_result"
    },
    {
     "data": {
      "image/png": "[encoded data removed]",
      "text/plain": [
       "<Figure size 432x288 with 1 Axes>"
      ]
     },
     "metadata": {
      "needs_background": "light"
     },
     "output_type": "display_data"
    }
   ],
   "source": [
    "sns.countplot(x = 'annotation', data=df)"
   ]
  },
  {
   "cell_type": "code",
   "execution_count": 10,
   "id": "ee5285f4-f4fd-44b5-a9e3-a5d0c3c6382b",
   "metadata": {},
   "outputs": [],
   "source": [
    "x = df.drop(columns=[\"annotation\"])\n",
    "y = df[\"annotation\"]\n",
    "x_train, x_test, y_train, y_test = train_test_split(x,y,test_size=0.2, random_state=42)\n",
    "bsmote = BorderlineSMOTE(random_state=42)\n",
    "x_train_resampled, y_train_resampled = bsmote.fit_resample(x_train, y_train)"
   ]
  },
  {
   "cell_type": "code",
   "execution_count": 32,
   "id": "b04dd3aa-c00d-4ba2-84cc-eb20b2842468",
   "metadata": {},
   "outputs": [
    {
     "data": {
      "text/plain": [
       "2    524990\n",
       "1    524990\n",
       "0    524990\n",
       "Name: annotation, dtype: int64"
      ]
     },
     "execution_count": 32,
     "metadata": {},
     "output_type": "execute_result"
    }
   ],
   "source": [
    "y_train_resampled.value_counts()"
   ]
  },
  {
   "cell_type": "code",
   "execution_count": 17,
   "id": "378414b5-e15c-4062-8300-3ef8d81b392e",
   "metadata": {},
   "outputs": [
    {
     "name": "stderr",
     "output_type": "stream",
     "text": [
      "C:\\Users\\Dev\\anaconda3\\lib\\site-packages\\xgboost\\core.py:430: FutureWarning: Pass `objective` as keyword args.  Passing these as positional arguments will be considered as error in future releases.\n",
      "  warnings.warn(\n",
      "C:\\Users\\Dev\\anaconda3\\lib\\site-packages\\xgboost\\sklearn.py:1146: UserWarning: The use of label encoder in XGBClassifier is deprecated and will be removed in a future release. To remove this warning, do the following: 1) Pass option use_label_encoder=False when constructing XGBClassifier object; and 2) Encode your labels (y) as integers starting with 0, i.e. 0, 1, 2, ..., [num_class - 1].\n",
      "  warnings.warn(label_encoder_deprecation_msg, UserWarning)\n"
     ]
    },
    {
     "name": "stdout",
     "output_type": "stream",
     "text": [
      "[15:35:38] WARNING: C:/Users/Administrator/workspace/xgboost-win64_release_1.4.0/src/learner.cc:1095: Starting in XGBoost 1.3.0, the default evaluation metric used with the objective 'multi:softprob' was changed from 'merror' to 'mlogloss'. Explicitly set eval_metric if you'd like to restore the old behavior.\n",
      "[[ 46115  11094    754]\n",
      " [ 11957 112930   6254]\n",
      " [   458   8754   6061]]\n",
      "              precision    recall  f1-score   support\n",
      "\n",
      "           0       0.79      0.80      0.79     57963\n",
      "           1       0.85      0.86      0.86    131141\n",
      "           2       0.46      0.40      0.43     15273\n",
      "\n",
      "    accuracy                           0.81    204377\n",
      "   macro avg       0.70      0.68      0.69    204377\n",
      "weighted avg       0.80      0.81      0.81    204377\n",
      "\n"
     ]
    }
   ],
   "source": [
    "params = {\n",
    "    'max_depth': 500,\n",
    "    'learning_rate': 0.01,\n",
    "    'objective': 'multi:softmax',\n",
    "    'num_class': 3\n",
    "}\n",
    "xgb = XGBClassifier(params)\n",
    "xgb.fit(x_train_resampled, y_train_resampled)\n",
    "y_pred = xgb.predict(x_test)\n",
    "print(confusion_matrix(y_test, y_pred))\n",
    "print(classification_report(y_test, y_pred))"
   ]
  },
  {
   "cell_type": "code",
   "execution_count": 18,
   "id": "c9edcdbe-d8a1-405c-8795-c86bb3f41352",
   "metadata": {},
   "outputs": [
    {
     "name": "stdout",
     "output_type": "stream",
     "text": [
      "[[ 47353   8797   1813]\n",
      " [ 11797 108429  10915]\n",
      " [  1568   6132   7573]]\n",
      "              precision    recall  f1-score   support\n",
      "\n",
      "           0       0.78      0.82      0.80     57963\n",
      "           1       0.88      0.83      0.85    131141\n",
      "           2       0.37      0.50      0.43     15273\n",
      "\n",
      "    accuracy                           0.80    204377\n",
      "   macro avg       0.68      0.71      0.69    204377\n",
      "weighted avg       0.81      0.80      0.80    204377\n",
      "\n"
     ]
    }
   ],
   "source": [
    "model = DecisionTreeClassifier(random_state=42)\n",
    "model.fit(x_train_resampled, y_train_resampled)\n",
    "y_pred = model.predict(x_test)\n",
    "print(confusion_matrix(y_test, y_pred))\n",
    "print(classification_report(y_test, y_pred))"
   ]
  },
  {
   "cell_type": "code",
   "execution_count": 21,
   "id": "78d14c36-0db2-44e2-92aa-7fa687a56e9c",
   "metadata": {},
   "outputs": [
    {
     "name": "stdout",
     "output_type": "stream",
     "text": [
      "[[ 50809   6004   1150]\n",
      " [  9474 113296   8371]\n",
      " [   885   5620   8768]]\n",
      "              precision    recall  f1-score   support\n",
      "\n",
      "           0       0.83      0.88      0.85     57963\n",
      "           1       0.91      0.86      0.88    131141\n",
      "           2       0.48      0.57      0.52     15273\n",
      "\n",
      "    accuracy                           0.85    204377\n",
      "   macro avg       0.74      0.77      0.75    204377\n",
      "weighted avg       0.85      0.85      0.85    204377\n",
      "\n"
     ]
    }
   ],
   "source": [
    "model = RandomForestClassifier(n_estimators=10, random_state=42)\n",
    "model.fit(x_train_resampled, y_train_resampled)\n",
    "y_pred = model.predict(x_test)\n",
    "print(confusion_matrix(y_test, y_pred))\n",
    "print(classification_report(y_test, y_pred))"
   ]
  },
  {
   "cell_type": "code",
   "execution_count": 22,
   "id": "af8f701b-8556-4bbf-8aa6-b8b62ed960a6",
   "metadata": {},
   "outputs": [
    {
     "name": "stdout",
     "output_type": "stream",
     "text": [
      "[[ 50706   6084   1173]\n",
      " [  6774 115856   8511]\n",
      " [   522   4708  10043]]\n",
      "              precision    recall  f1-score   support\n",
      "\n",
      "           0       0.87      0.87      0.87     57963\n",
      "           1       0.91      0.88      0.90    131141\n",
      "           2       0.51      0.66      0.57     15273\n",
      "\n",
      "    accuracy                           0.86    204377\n",
      "   macro avg       0.77      0.81      0.78    204377\n",
      "weighted avg       0.87      0.86      0.87    204377\n",
      "\n"
     ]
    }
   ],
   "source": [
    "model = RandomForestClassifier(n_estimators=100, random_state=42)\n",
    "model.fit(x_train_resampled, y_train_resampled)\n",
    "y_pred = model.predict(x_test)\n",
    "print(confusion_matrix(y_test, y_pred))\n",
    "print(classification_report(y_test, y_pred))"
   ]
  },
  {
   "cell_type": "code",
   "execution_count": 23,
   "id": "c1e59701-01ca-49a1-a59c-cd5e91283edf",
   "metadata": {},
   "outputs": [
    {
     "name": "stdout",
     "output_type": "stream",
     "text": [
      "[[ 50700   6087   1176]\n",
      " [  6603 116079   8459]\n",
      " [   504   4677  10092]]\n",
      "              precision    recall  f1-score   support\n",
      "\n",
      "           0       0.88      0.87      0.88     57963\n",
      "           1       0.92      0.89      0.90    131141\n",
      "           2       0.51      0.66      0.58     15273\n",
      "\n",
      "    accuracy                           0.87    204377\n",
      "   macro avg       0.77      0.81      0.78    204377\n",
      "weighted avg       0.87      0.87      0.87    204377\n",
      "\n"
     ]
    }
   ],
   "source": [
    "model = RandomForestClassifier(n_estimators=200, random_state=42)\n",
    "model.fit(x_train_resampled, y_train_resampled)\n",
    "y_pred = model.predict(x_test)\n",
    "print(confusion_matrix(y_test, y_pred))\n",
    "print(classification_report(y_test, y_pred))"
   ]
  },
  {
   "cell_type": "code",
   "execution_count": 34,
   "id": "131fa0d2-fad1-4686-8b83-068319805edd",
   "metadata": {},
   "outputs": [
    {
     "data": {
      "text/plain": [
       "['../model/model_rf.joblib']"
      ]
     },
     "execution_count": 34,
     "metadata": {},
     "output_type": "execute_result"
    }
   ],
   "source": [
    "joblib.dump(model, '../model/model_rf.joblib')"
   ]
  },
  {
   "cell_type": "markdown",
   "id": "19c11237-e308-4615-bc76-9f5ec2178d4b",
   "metadata": {},
   "source": [
    "## Interpretation of the above experiment \n",
    "\n",
    "We used Borderline SMOTE to oversample the training dataset so that the classes become balanced. After that we experimented with XGBoost, Decision Tree and Random Forest. From the experiments we found that the random forest model is the most stable one with precision and recall of the annotation 2 class being 51% and 66% respectively and the overall accuracy being 87%.\n",
    "\n",
    "Now from here we can fine tune the model hyperparameters using GridSearchCV so as to increase the performance and the stability of the model. Due to time constraint here we will not be going forward with the GridSearchCV technique.\n",
    "\n",
    "After that we will move to the deployment section where we will just display a basic deployment scenario showing the probability of freeze."
   ]
  }
 ],
 "metadata": {
  "kernelspec": {
   "display_name": "Python 3",
   "language": "python",
   "name": "python3"
  },
  "language_info": {
   "codemirror_mode": {
    "name": "ipython",
    "version": 3
   },
   "file_extension": ".py",
   "mimetype": "text/x-python",
   "name": "python",
   "nbconvert_exporter": "python",
   "pygments_lexer": "ipython3",
   "version": "3.8.8"
  }
 },
 "nbformat": 4,
 "nbformat_minor": 5
}
